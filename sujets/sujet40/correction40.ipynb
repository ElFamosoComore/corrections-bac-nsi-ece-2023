{
 "cells": [
  {
   "attachments": {},
   "cell_type": "markdown",
   "metadata": {},
   "source": [
    "## Sujet 40"
   ]
  },
  {
   "attachments": {},
   "cell_type": "markdown",
   "metadata": {},
   "source": [
    "### Exercice 1"
   ]
  },
  {
   "cell_type": "code",
   "execution_count": 6,
   "metadata": {},
   "outputs": [],
   "source": [
    "def nombre_de_mots(phrase):\n",
    "    nbre = 0\n",
    "    \n",
    "    for c in phrase:\n",
    "        if c == ' ':\n",
    "            nbre += 1\n",
    "\n",
    "    if phrase[len(phrase) - 1] == '?' or phrase[len(phrase) - 1] == '!':\n",
    "        return nbre \n",
    "    else:\n",
    "        return nbre + 1\n"
   ]
  },
  {
   "cell_type": "code",
   "execution_count": 8,
   "metadata": {},
   "outputs": [
    {
     "data": {
      "text/plain": [
       "4"
      ]
     },
     "execution_count": 8,
     "metadata": {},
     "output_type": "execute_result"
    }
   ],
   "source": [
    "nombre_de_mots('Cet exercice est simple.')"
   ]
  },
  {
   "cell_type": "code",
   "execution_count": 9,
   "metadata": {},
   "outputs": [
    {
     "data": {
      "text/plain": [
       "6"
      ]
     },
     "execution_count": 9,
     "metadata": {},
     "output_type": "execute_result"
    }
   ],
   "source": [
    "nombre_de_mots('Le point d exclamation est separe !')"
   ]
  },
  {
   "cell_type": "code",
   "execution_count": 10,
   "metadata": {},
   "outputs": [
    {
     "data": {
      "text/plain": [
       "10"
      ]
     },
     "execution_count": 10,
     "metadata": {},
     "output_type": "execute_result"
    }
   ],
   "source": [
    "nombre_de_mots('Combien de mots y a t il dans cette phrase ?')"
   ]
  },
  {
   "cell_type": "code",
   "execution_count": 11,
   "metadata": {},
   "outputs": [
    {
     "data": {
      "text/plain": [
       "1"
      ]
     },
     "execution_count": 11,
     "metadata": {},
     "output_type": "execute_result"
    }
   ],
   "source": [
    "nombre_de_mots('Fin.')"
   ]
  },
  {
   "attachments": {},
   "cell_type": "markdown",
   "metadata": {},
   "source": [
    "### Exercice 2"
   ]
  },
  {
   "cell_type": "code",
   "execution_count": 12,
   "metadata": {},
   "outputs": [],
   "source": [
    "class Noeud:\n",
    "    def __init__(self, valeur):\n",
    "        '''Méthode constructeur pour la classe Noeud. Paramètre d'entrée : valeur (int)'''\n",
    "        self.valeur = valeur\n",
    "        self.gauche = None\n",
    "        self.droit = None\n",
    "    def getValeur(self):\n",
    "        '''Méthode accesseur pour obtenir la valeur du noeud Aucun paramètre en entrée'''\n",
    "        return self.valeur\n",
    "    def droitExiste(self):\n",
    "        '''Méthode renvoyant True si le sous-arbre droit est non vide Aucun paramètre en entrée'''\n",
    "        return (self.droit is not None)\n",
    "    def gaucheExiste(self):\n",
    "        '''Méthode renvoyant True si le sous-arbre gauche est non vide Aucun paramètre en entrée'''\n",
    "        return (self.gauche is not None)\n",
    "    def inserer(self, cle):\n",
    "        '''Méthode d'insertion de clé dans un arbre binaire de recherche Paramètre d'entrée : cle (int)'''\n",
    "        if cle < self.valeur :\n",
    "            # on insère à gauche\n",
    "            if self.gaucheExiste():\n",
    "                # on descend à gauche et on recommence le test initial\n",
    "                return self.gauche.inserer(cle)\n",
    "            else:\n",
    "                # on crée un fils gauche\n",
    "                self.gauche = Noeud(cle)\n",
    "        elif cle > self.valeur:\n",
    "            # on insère à droite\n",
    "            if self.droitExiste():\n",
    "                # on descend à droite et on recommence le test initial\n",
    "                return self.droit.inserer(cle)\n",
    "            else:\n",
    "                # on crée un fils droit\n",
    "                self.droit = Noeud(cle)\n"
   ]
  },
  {
   "cell_type": "code",
   "execution_count": 13,
   "metadata": {},
   "outputs": [
    {
     "data": {
      "text/plain": [
       "3"
      ]
     },
     "execution_count": 13,
     "metadata": {},
     "output_type": "execute_result"
    }
   ],
   "source": [
    "arbre = Noeud(7)\n",
    "\n",
    "for cle in (3, 9, 1, 6): \n",
    "    arbre.inserer(cle)\n",
    "\n",
    "arbre.gauche.getValeur()"
   ]
  },
  {
   "cell_type": "code",
   "execution_count": 14,
   "metadata": {},
   "outputs": [
    {
     "data": {
      "text/plain": [
       "9"
      ]
     },
     "execution_count": 14,
     "metadata": {},
     "output_type": "execute_result"
    }
   ],
   "source": [
    "arbre.droit.getValeur()"
   ]
  },
  {
   "cell_type": "code",
   "execution_count": 15,
   "metadata": {},
   "outputs": [
    {
     "data": {
      "text/plain": [
       "1"
      ]
     },
     "execution_count": 15,
     "metadata": {},
     "output_type": "execute_result"
    }
   ],
   "source": [
    "arbre.gauche.gauche.getValeur()"
   ]
  },
  {
   "cell_type": "code",
   "execution_count": 16,
   "metadata": {},
   "outputs": [
    {
     "data": {
      "text/plain": [
       "6"
      ]
     },
     "execution_count": 16,
     "metadata": {},
     "output_type": "execute_result"
    }
   ],
   "source": [
    "arbre.gauche.droit.getValeur()"
   ]
  }
 ],
 "metadata": {
  "kernelspec": {
   "display_name": "Python 3",
   "language": "python",
   "name": "python3"
  },
  "language_info": {
   "codemirror_mode": {
    "name": "ipython",
    "version": 3
   },
   "file_extension": ".py",
   "mimetype": "text/x-python",
   "name": "python",
   "nbconvert_exporter": "python",
   "pygments_lexer": "ipython3",
   "version": "3.10.10"
  },
  "orig_nbformat": 4
 },
 "nbformat": 4,
 "nbformat_minor": 2
}
