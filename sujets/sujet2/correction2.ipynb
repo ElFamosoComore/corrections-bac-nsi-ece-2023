{
 "cells": [
  {
   "attachments": {},
   "cell_type": "markdown",
   "metadata": {},
   "source": [
    "## Sujet 2"
   ]
  },
  {
   "attachments": {},
   "cell_type": "markdown",
   "metadata": {},
   "source": [
    "### Exercice 1"
   ]
  },
  {
   "cell_type": "code",
   "execution_count": 1,
   "metadata": {},
   "outputs": [],
   "source": [
    "def indices_maxi(tab):\n",
    "    e = 0\n",
    "    indices = []\n",
    "\n",
    "    for i in range(len(tab)):\n",
    "        valeur = tab[i]\n",
    "\n",
    "        if valeur > e: \n",
    "            # Si la valeur est au-dessus de e, on met e à la valeur, et on réinitialise indices avec l'indice actuel.\n",
    "            e = valeur\n",
    "            indices = [i]\n",
    "        elif valeur == e:\n",
    "            # Si la valeur est égale à e, on ajoute à indices l'indice actuel.\n",
    "            indices.append(i)\n",
    "    \n",
    "    return (e, indices)"
   ]
  },
  {
   "cell_type": "code",
   "execution_count": 2,
   "metadata": {},
   "outputs": [
    {
     "data": {
      "text/plain": [
       "(9, [3, 8])"
      ]
     },
     "execution_count": 2,
     "metadata": {},
     "output_type": "execute_result"
    }
   ],
   "source": [
    "indices_maxi([1, 5, 6, 9, 1, 2, 3, 7, 9, 8])"
   ]
  },
  {
   "cell_type": "code",
   "execution_count": 3,
   "metadata": {},
   "outputs": [
    {
     "data": {
      "text/plain": [
       "(7, [0])"
      ]
     },
     "execution_count": 3,
     "metadata": {},
     "output_type": "execute_result"
    }
   ],
   "source": [
    "indices_maxi([7])"
   ]
  },
  {
   "attachments": {},
   "cell_type": "markdown",
   "metadata": {},
   "source": [
    "### Exercice 2"
   ]
  },
  {
   "cell_type": "code",
   "execution_count": 4,
   "metadata": {},
   "outputs": [],
   "source": [
    "def positif(pile):\n",
    "    pile_1 = list(pile)\n",
    "    pile_2 = []\n",
    "    while pile_1 != []:\n",
    "        x = pile_1.pop()\n",
    "        if x >= 0:\n",
    "            # On ajoute toutes les valeurs supérieures ou égales à 0 de pile_1 dans pile_2.\n",
    "            pile_2.append(x) \n",
    "    while pile_2 != []:\n",
    "        x = pile_2.pop()\n",
    "        # Que l'on rajoute ensuite dans pile_1, après qu'elle se soit vidée, pour que les nombres soient dans leur ordre d'origine.\n",
    "        pile_1.append(x)\n",
    "    return pile_1"
   ]
  },
  {
   "cell_type": "code",
   "execution_count": 5,
   "metadata": {},
   "outputs": [
    {
     "data": {
      "text/plain": [
       "[0, 5, 4, 10, 9]"
      ]
     },
     "execution_count": 5,
     "metadata": {},
     "output_type": "execute_result"
    }
   ],
   "source": [
    "positif([-1, 0, 5, -3, 4, -6, 10, 9, -8])"
   ]
  },
  {
   "cell_type": "code",
   "execution_count": 6,
   "metadata": {},
   "outputs": [
    {
     "data": {
      "text/plain": [
       "[]"
      ]
     },
     "execution_count": 6,
     "metadata": {},
     "output_type": "execute_result"
    }
   ],
   "source": [
    "positif([-2])"
   ]
  },
  {
   "cell_type": "code",
   "execution_count": null,
   "metadata": {},
   "outputs": [],
   "source": []
  }
 ],
 "metadata": {
  "kernelspec": {
   "display_name": "Python 3",
   "language": "python",
   "name": "python3"
  },
  "language_info": {
   "codemirror_mode": {
    "name": "ipython",
    "version": 3
   },
   "file_extension": ".py",
   "mimetype": "text/x-python",
   "name": "python",
   "nbconvert_exporter": "python",
   "pygments_lexer": "ipython3",
   "version": "3.10.9"
  },
  "orig_nbformat": 4,
  "vscode": {
   "interpreter": {
    "hash": "e7370f93d1d0cde622a1f8e1c04877d8463912d04d973331ad4851f04de6915a"
   }
  }
 },
 "nbformat": 4,
 "nbformat_minor": 2
}
