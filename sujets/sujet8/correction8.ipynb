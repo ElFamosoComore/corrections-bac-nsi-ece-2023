{
 "cells": [
  {
   "attachments": {},
   "cell_type": "markdown",
   "metadata": {},
   "source": [
    "## Sujet 8"
   ]
  },
  {
   "attachments": {},
   "cell_type": "markdown",
   "metadata": {},
   "source": [
    "### Exercice 1"
   ]
  },
  {
   "cell_type": "code",
   "execution_count": 8,
   "metadata": {},
   "outputs": [],
   "source": [
    "def max_dico(dico):\n",
    "    max = (\"\", 0) # On initialise un tuple avec un str vide et 0\n",
    "\n",
    "    for v in dico:\n",
    "        if dico[v] > max[1]: # Si le nombre de likes de l'éléments est supérieur à celui de max,\n",
    "            max = (v, dico[v]) # On remplace max par celui-ci.\n",
    "\n",
    "    return max"
   ]
  },
  {
   "cell_type": "code",
   "execution_count": 9,
   "metadata": {},
   "outputs": [
    {
     "data": {
      "text/plain": [
       "('Ada', 201)"
      ]
     },
     "execution_count": 9,
     "metadata": {},
     "output_type": "execute_result"
    }
   ],
   "source": [
    "max_dico({'Bob': 102, 'Ada': 201, 'Alice': 103, 'Tim': 50})"
   ]
  },
  {
   "cell_type": "code",
   "execution_count": 10,
   "metadata": {},
   "outputs": [
    {
     "data": {
      "text/plain": [
       "('Alan', 222)"
      ]
     },
     "execution_count": 10,
     "metadata": {},
     "output_type": "execute_result"
    }
   ],
   "source": [
    "max_dico({'Alan': 222, 'Ada': 201, 'Eve': 220, 'Tim': 50})"
   ]
  },
  {
   "attachments": {},
   "cell_type": "markdown",
   "metadata": {},
   "source": [
    "### Exercice 2"
   ]
  },
  {
   "cell_type": "code",
   "execution_count": 23,
   "metadata": {},
   "outputs": [],
   "source": [
    "class Pile:\n",
    "    \"\"\"\n",
    "    Classe definissant une structure de pile.\n",
    "    \"\"\"\n",
    "    def __init__(self):\n",
    "        self.contenu = []\n",
    "\n",
    "    def est_vide(self):\n",
    "        \"\"\"\n",
    "        Renvoie le booleen True si la pile est vide, False sinon.\n",
    "        \"\"\"\n",
    "        return self.contenu == []\n",
    "\n",
    "    def empiler(self, v):\n",
    "        \"\"\"\n",
    "        Place l'element v au sommet de la pile\n",
    "        \"\"\"\n",
    "        self.contenu.append(v)\n",
    "\n",
    "    def depiler(self):\n",
    "        \"\"\"\n",
    "        Retire et renvoie l'element place au sommet de la pile,\n",
    "        si la pile n'est pas vide.\n",
    "        \"\"\"\n",
    "        if not self.est_vide():\n",
    "            return self.contenu.pop()\n",
    "\n",
    "\n",
    "def eval_expression(tab):\n",
    "    p = Pile()\n",
    "    for element in tab:\n",
    "        if element != '+' and element != '*':\n",
    "            # C'est donc obligatoirement un nombre, on l'empile.\n",
    "            p.empiler(element)\n",
    "        else:\n",
    "            if element == '+':\n",
    "                # On additionne les deux éléments dépilés.\n",
    "                resultat = p.depiler() + p.depiler()\n",
    "            else:\n",
    "                # On multiplie les deux éléments dépilés.\n",
    "                resultat = p.depiler() * p.depiler()\n",
    "            # Et on empile le résultat.\n",
    "            p.empiler(resultat)\n",
    "    return p.depiler() # Et on dépile ensuite le résultat final."
   ]
  },
  {
   "cell_type": "code",
   "execution_count": 24,
   "metadata": {},
   "outputs": [
    {
     "data": {
      "text/plain": [
       "25"
      ]
     },
     "execution_count": 24,
     "metadata": {},
     "output_type": "execute_result"
    }
   ],
   "source": [
    "eval_expression([2, 3, '+', 5, '*'])"
   ]
  }
 ],
 "metadata": {
  "kernelspec": {
   "display_name": "Python 3",
   "language": "python",
   "name": "python3"
  },
  "language_info": {
   "codemirror_mode": {
    "name": "ipython",
    "version": 3
   },
   "file_extension": ".py",
   "mimetype": "text/x-python",
   "name": "python",
   "nbconvert_exporter": "python",
   "pygments_lexer": "ipython3",
   "version": "3.10.9"
  },
  "orig_nbformat": 4,
  "vscode": {
   "interpreter": {
    "hash": "e7370f93d1d0cde622a1f8e1c04877d8463912d04d973331ad4851f04de6915a"
   }
  }
 },
 "nbformat": 4,
 "nbformat_minor": 2
}
