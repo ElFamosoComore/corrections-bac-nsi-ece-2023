{
 "cells": [
  {
   "attachments": {},
   "cell_type": "markdown",
   "metadata": {},
   "source": [
    "## Sujet 7"
   ]
  },
  {
   "attachments": {},
   "cell_type": "markdown",
   "metadata": {},
   "source": [
    "### Exercice 1"
   ]
  },
  {
   "cell_type": "code",
   "execution_count": 9,
   "metadata": {},
   "outputs": [],
   "source": [
    "def fusion(tab1, tab2):\n",
    "    tab = []\n",
    "    n1 = len(tab1)\n",
    "    n2 = len(tab2)\n",
    "    i1 = 0\n",
    "    i2 = 0\n",
    "\n",
    "    # On trie les valeurs des deux tableaux ensembles.\n",
    "    while i1 < n1 and i2 < n2:\n",
    "        # On prend la plus petite des valeurs entre tab1 et tab2.\n",
    "        if tab1[i1] > tab2[i2]:\n",
    "            tab.append(tab2[i2])\n",
    "            i2 += 1\n",
    "        else:\n",
    "            tab.append(tab1[i1])\n",
    "            i1 += 1\n",
    "    \n",
    "    # Si tab1 a plus d'éléments, on rajoute le reste à tab.\n",
    "    while i1 < n1:\n",
    "        tab.append(tab1[i1])\n",
    "        i1 += 1\n",
    "\n",
    "    # Si tab2 a plus d'éléments, on rajoute le reste à tab.\n",
    "    while i2 < n2:\n",
    "        tab.append(tab2[i2])\n",
    "        i2 += 1\n",
    "\n",
    "    return tab"
   ]
  },
  {
   "cell_type": "code",
   "execution_count": 10,
   "metadata": {},
   "outputs": [
    {
     "data": {
      "text/plain": [
       "[2, 3, 5, 5]"
      ]
     },
     "execution_count": 10,
     "metadata": {},
     "output_type": "execute_result"
    }
   ],
   "source": [
    "fusion([3, 5], [2, 5])"
   ]
  },
  {
   "cell_type": "code",
   "execution_count": 11,
   "metadata": {},
   "outputs": [
    {
     "data": {
      "text/plain": [
       "[-3, -2, 4, 5, 10]"
      ]
     },
     "execution_count": 11,
     "metadata": {},
     "output_type": "execute_result"
    }
   ],
   "source": [
    "fusion([-2, 4], [-3, 5, 10])"
   ]
  },
  {
   "cell_type": "code",
   "execution_count": 12,
   "metadata": {},
   "outputs": [
    {
     "data": {
      "text/plain": [
       "[2, 4, 6]"
      ]
     },
     "execution_count": 12,
     "metadata": {},
     "output_type": "execute_result"
    }
   ],
   "source": [
    "fusion([4], [2, 6])"
   ]
  },
  {
   "attachments": {},
   "cell_type": "markdown",
   "metadata": {},
   "source": [
    "### Exercice 2"
   ]
  },
  {
   "cell_type": "code",
   "execution_count": 1,
   "metadata": {},
   "outputs": [],
   "source": [
    "romains = {\"I\":1, \"V\":5, \"X\":10, \"L\":50, \"C\":100, \"D\":500, \"M\":1000}\n",
    "\n",
    "def traduire_romain(nombre) :\n",
    "    \"\"\" Renvoie l'ecriture decimale du nombre donnÃ© en chiffres romains \"\"\"\n",
    "\n",
    "    if len(nombre) == 1:\n",
    "        # S'il n'y a qu'une lettre, on retourne sa valeur.\n",
    "        return romains[nombre[0]]\n",
    "    # Si la première lettre a une valeur plus importante à la seconde :\n",
    "    elif romains[nombre[0]] >= romains[nombre[1]] :\n",
    "        # On additionne la valeur de la première lettre au reste du nombre.\n",
    "        return romains[nombre[0]] + traduire_romain(nombre[1:])\n",
    "    else:\n",
    "        # Sinon, on soustrait la valeur de la première lettre au reste du nombre.\n",
    "        return traduire_romain(nombre[1:]) - romains[nombre[0]]"
   ]
  },
  {
   "cell_type": "code",
   "execution_count": 2,
   "metadata": {},
   "outputs": [
    {
     "data": {
      "text/plain": [
       "14"
      ]
     },
     "execution_count": 2,
     "metadata": {},
     "output_type": "execute_result"
    }
   ],
   "source": [
    "traduire_romain(\"XIV\")"
   ]
  },
  {
   "cell_type": "code",
   "execution_count": 3,
   "metadata": {},
   "outputs": [
    {
     "data": {
      "text/plain": [
       "142"
      ]
     },
     "execution_count": 3,
     "metadata": {},
     "output_type": "execute_result"
    }
   ],
   "source": [
    "traduire_romain(\"CXLII\")"
   ]
  },
  {
   "cell_type": "code",
   "execution_count": 4,
   "metadata": {},
   "outputs": [
    {
     "data": {
      "text/plain": [
       "2023"
      ]
     },
     "execution_count": 4,
     "metadata": {},
     "output_type": "execute_result"
    }
   ],
   "source": [
    "traduire_romain(\"MMXXIII\")"
   ]
  },
  {
   "cell_type": "code",
   "execution_count": null,
   "metadata": {},
   "outputs": [],
   "source": []
  }
 ],
 "metadata": {
  "kernelspec": {
   "display_name": "Python 3",
   "language": "python",
   "name": "python3"
  },
  "language_info": {
   "codemirror_mode": {
    "name": "ipython",
    "version": 3
   },
   "file_extension": ".py",
   "mimetype": "text/x-python",
   "name": "python",
   "nbconvert_exporter": "python",
   "pygments_lexer": "ipython3",
   "version": "3.10.9"
  },
  "orig_nbformat": 4,
  "vscode": {
   "interpreter": {
    "hash": "e7370f93d1d0cde622a1f8e1c04877d8463912d04d973331ad4851f04de6915a"
   }
  }
 },
 "nbformat": 4,
 "nbformat_minor": 2
}
