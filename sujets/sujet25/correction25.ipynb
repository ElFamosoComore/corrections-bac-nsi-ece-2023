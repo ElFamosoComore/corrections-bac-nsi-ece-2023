{
 "cells": [
  {
   "attachments": {},
   "cell_type": "markdown",
   "metadata": {},
   "source": [
    "## Sujet 25"
   ]
  },
  {
   "attachments": {},
   "cell_type": "markdown",
   "metadata": {},
   "source": [
    "### Exercice 1"
   ]
  },
  {
   "cell_type": "code",
   "execution_count": 1,
   "metadata": {},
   "outputs": [],
   "source": [
    "def enumere(L):\n",
    "    d = {}\n",
    "    for i in range(len(L)):\n",
    "        e = L[i]\n",
    "\n",
    "        if e in d:\n",
    "            d[e].append(i)\n",
    "        else:\n",
    "            d[e] = [i]\n",
    "    return d"
   ]
  },
  {
   "cell_type": "code",
   "execution_count": 2,
   "metadata": {},
   "outputs": [
    {
     "data": {
      "text/plain": [
       "{1: [0, 1, 5], 2: [2, 4], 3: [3]}"
      ]
     },
     "execution_count": 2,
     "metadata": {},
     "output_type": "execute_result"
    }
   ],
   "source": [
    "enumere([1, 1, 2, 3, 2, 1])"
   ]
  },
  {
   "attachments": {},
   "cell_type": "markdown",
   "metadata": {},
   "source": [
    "### Exercice 2"
   ]
  },
  {
   "cell_type": "code",
   "execution_count": 4,
   "metadata": {},
   "outputs": [],
   "source": [
    "class Arbre:\n",
    "    def __init__(self, etiquette):\n",
    "        self.v = etiquette\n",
    "        self.fg = None\n",
    "        self.fd = None\n",
    "\n",
    "def parcours(arbre, liste):\n",
    "    if arbre != None:\n",
    "        parcours(arbre.fg, liste)\n",
    "        liste.append(arbre.v)\n",
    "        parcours(arbre.fd, liste)\n",
    "    return liste\n",
    "\n",
    "def insere(arbre, cle):\n",
    "    \"\"\" arbre est une instance de la classe Arbre qui implémente\n",
    "        un arbre binaire de recherche.\n",
    "    \"\"\"\n",
    "    if cle < arbre.v:\n",
    "        if arbre.fg is not None:\n",
    "            insere(arbre.fg, cle)\n",
    "        else:\n",
    "            arbre.fg = Arbre(cle)\n",
    "    else:\n",
    "        if arbre.fd is not None:\n",
    "            insere(arbre.fd, cle)\n",
    "        else:\n",
    "            arbre.fd = Arbre(cle)\n"
   ]
  },
  {
   "cell_type": "code",
   "execution_count": 7,
   "metadata": {},
   "outputs": [
    {
     "data": {
      "text/plain": [
       "[1, 2, 3, 4, 5, 6, 7, 8]"
      ]
     },
     "execution_count": 7,
     "metadata": {},
     "output_type": "execute_result"
    }
   ],
   "source": [
    "cinq = Arbre(5)\n",
    "deux = Arbre(2)\n",
    "sept = Arbre(7)\n",
    "trois = Arbre(3)\n",
    "\n",
    "cinq.fg = deux\n",
    "cinq.fd = sept\n",
    "deux.fd = trois\n",
    "\n",
    "insere(cinq, 1)\n",
    "insere(cinq, 4)\n",
    "insere(cinq, 6)\n",
    "insere(cinq, 8)\n",
    "\n",
    "parcours(cinq, [])"
   ]
  }
 ],
 "metadata": {
  "kernelspec": {
   "display_name": "Python 3",
   "language": "python",
   "name": "python3"
  },
  "language_info": {
   "codemirror_mode": {
    "name": "ipython",
    "version": 3
   },
   "file_extension": ".py",
   "mimetype": "text/x-python",
   "name": "python",
   "nbconvert_exporter": "python",
   "pygments_lexer": "ipython3",
   "version": "3.10.10"
  },
  "orig_nbformat": 4
 },
 "nbformat": 4,
 "nbformat_minor": 2
}
