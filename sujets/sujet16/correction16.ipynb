{
 "cells": [
  {
   "attachments": {},
   "cell_type": "markdown",
   "metadata": {},
   "source": [
    "## Sujet 16"
   ]
  },
  {
   "attachments": {},
   "cell_type": "markdown",
   "metadata": {},
   "source": [
    "### Exercice 1"
   ]
  },
  {
   "cell_type": "code",
   "execution_count": 1,
   "metadata": {},
   "outputs": [],
   "source": [
    "def recherche_indices_classement(elt, tab):\n",
    "    idx_inferieurs = []\n",
    "    idx_egaux = []\n",
    "    idx_superieurs = []\n",
    "\n",
    "    for i in range(len(tab)):\n",
    "        if tab[i] > elt:\n",
    "            idx_superieurs.append(i) # Si supérieur, on garde l'indice\n",
    "        elif tab[i] < elt:\n",
    "            idx_inferieurs.append(i) # Si inférieur, on garde l'indice\n",
    "        else:\n",
    "            idx_egaux.append(i) # Si égal, on garde l'indice\n",
    "    \n",
    "    return idx_inferieurs, idx_egaux, idx_superieurs"
   ]
  },
  {
   "cell_type": "code",
   "execution_count": 2,
   "metadata": {},
   "outputs": [
    {
     "data": {
      "text/plain": [
       "([0, 3, 7], [1, 6], [2, 4, 5])"
      ]
     },
     "execution_count": 2,
     "metadata": {},
     "output_type": "execute_result"
    }
   ],
   "source": [
    "recherche_indices_classement(3, [1, 3, 4, 2, 4, 6, 3, 0])"
   ]
  },
  {
   "cell_type": "code",
   "execution_count": 3,
   "metadata": {},
   "outputs": [
    {
     "data": {
      "text/plain": [
       "([0, 2, 5], [], [1, 3, 4])"
      ]
     },
     "execution_count": 3,
     "metadata": {},
     "output_type": "execute_result"
    }
   ],
   "source": [
    "recherche_indices_classement(3, [1, 4, 2, 4, 6, 0])"
   ]
  },
  {
   "cell_type": "code",
   "execution_count": 4,
   "metadata": {},
   "outputs": [
    {
     "data": {
      "text/plain": [
       "([0, 1, 2, 3], [], [])"
      ]
     },
     "execution_count": 4,
     "metadata": {},
     "output_type": "execute_result"
    }
   ],
   "source": [
    "recherche_indices_classement(3, [1, 1, 1, 1])"
   ]
  },
  {
   "cell_type": "code",
   "execution_count": 5,
   "metadata": {},
   "outputs": [
    {
     "data": {
      "text/plain": [
       "([], [], [])"
      ]
     },
     "execution_count": 5,
     "metadata": {},
     "output_type": "execute_result"
    }
   ],
   "source": [
    "recherche_indices_classement(3, [])"
   ]
  },
  {
   "attachments": {},
   "cell_type": "markdown",
   "metadata": {},
   "source": [
    "### Exercice 2"
   ]
  },
  {
   "cell_type": "code",
   "execution_count": 6,
   "metadata": {},
   "outputs": [],
   "source": [
    "resultats = {'Dupont': {\n",
    "                           'DS1': [15.5, 4],\n",
    "                           'DM1': [14.5, 1],\n",
    "                           'DS2': [13, 4],\n",
    "                           'PROJET1': [16, 3],\n",
    "                           'DS3': [14, 4]\n",
    "                       },\n",
    "             'Durand': {\n",
    "                           'DS1': [6 , 4],\n",
    "                           'DM1': [14.5, 1],\n",
    "                           'DS2': [8, 4],\n",
    "                           'PROJET1': [9, 3],\n",
    "                           'IE1': [7, 2],\n",
    "                           'DS3': [8, 4],\n",
    "                           'DS4':[15, 4]\n",
    "                       }\n",
    "            }\n",
    "\n",
    "def moyenne(nom, dico_result):\n",
    "    if nom in dico_result:\n",
    "        notes = dico_result[nom]\n",
    "        total_points = 0\n",
    "        total_coefficients = 0\n",
    "        for valeurs in notes.values():\n",
    "            note, coefficient = valeurs\n",
    "            total_points = total_points + note * coefficient\n",
    "            total_coefficients = total_coefficients + coefficient\n",
    "        return round( total_points / total_coefficients, 1 )\n",
    "    else:\n",
    "        return -1"
   ]
  },
  {
   "cell_type": "code",
   "execution_count": 7,
   "metadata": {},
   "outputs": [
    {
     "data": {
      "text/plain": [
       "14.5"
      ]
     },
     "execution_count": 7,
     "metadata": {},
     "output_type": "execute_result"
    }
   ],
   "source": [
    "moyenne(\"Dupont\", resultats)"
   ]
  },
  {
   "cell_type": "code",
   "execution_count": 8,
   "metadata": {},
   "outputs": [
    {
     "data": {
      "text/plain": [
       "9.2"
      ]
     },
     "execution_count": 8,
     "metadata": {},
     "output_type": "execute_result"
    }
   ],
   "source": [
    "moyenne(\"Durand\", resultats)"
   ]
  },
  {
   "cell_type": "code",
   "execution_count": null,
   "metadata": {},
   "outputs": [],
   "source": []
  }
 ],
 "metadata": {
  "kernelspec": {
   "display_name": "Python 3",
   "language": "python",
   "name": "python3"
  },
  "language_info": {
   "codemirror_mode": {
    "name": "ipython",
    "version": 3
   },
   "file_extension": ".py",
   "mimetype": "text/x-python",
   "name": "python",
   "nbconvert_exporter": "python",
   "pygments_lexer": "ipython3",
   "version": "3.10.9"
  },
  "orig_nbformat": 4,
  "vscode": {
   "interpreter": {
    "hash": "e7370f93d1d0cde622a1f8e1c04877d8463912d04d973331ad4851f04de6915a"
   }
  }
 },
 "nbformat": 4,
 "nbformat_minor": 2
}
