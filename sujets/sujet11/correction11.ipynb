{
 "cells": [
  {
   "attachments": {},
   "cell_type": "markdown",
   "metadata": {},
   "source": [
    "## Sujet 11"
   ]
  },
  {
   "attachments": {},
   "cell_type": "markdown",
   "metadata": {},
   "source": [
    "### Exercice 1"
   ]
  },
  {
   "cell_type": "code",
   "execution_count": 13,
   "metadata": {},
   "outputs": [],
   "source": [
    "def convertir(tab):\n",
    "    somme = 0\n",
    "    for i in range(len(tab)):\n",
    "        if tab[i] == 1:\n",
    "            # (i + 1) car il y a un décalage de 1 entre les indices et la longueur du tableau.\n",
    "            puissance = len(tab) - (i + 1)\n",
    "            somme += 2 ** puissance\n",
    "    \n",
    "    return somme"
   ]
  },
  {
   "cell_type": "code",
   "execution_count": 14,
   "metadata": {},
   "outputs": [
    {
     "data": {
      "text/plain": [
       "83"
      ]
     },
     "execution_count": 14,
     "metadata": {},
     "output_type": "execute_result"
    }
   ],
   "source": [
    "convertir([1, 0, 1, 0, 0, 1, 1])"
   ]
  },
  {
   "cell_type": "code",
   "execution_count": 15,
   "metadata": {},
   "outputs": [
    {
     "data": {
      "text/plain": [
       "130"
      ]
     },
     "execution_count": 15,
     "metadata": {},
     "output_type": "execute_result"
    }
   ],
   "source": [
    "convertir([1, 0, 0, 0, 0, 0, 1, 0])"
   ]
  },
  {
   "attachments": {},
   "cell_type": "markdown",
   "metadata": {},
   "source": [
    "### Exercice 2"
   ]
  },
  {
   "cell_type": "code",
   "execution_count": 19,
   "metadata": {},
   "outputs": [],
   "source": [
    "liste = [9, 5, 8, 4, 0, 2, 7, 1, 10, 3, 6]\n",
    "\n",
    "def tri_insertion(tab):\n",
    "    n = len(tab)\n",
    "    for i in range(1, n):\n",
    "        valeur_insertion = tab[i]\n",
    "        # la variable j sert à  déterminer où placer la valeur à  ranger\n",
    "        j = i\n",
    "        # tant qu'on a pas trouvé la place de l'élément à insérer\n",
    "        # on décale les valeurs du tableau vers la droite\n",
    "        while j > 0 and valeur_insertion < tab[j - 1]:\n",
    "            tab[j] = tab[j-1]\n",
    "            j = j - 1\n",
    "        tab[j] = valeur_insertion\n"
   ]
  },
  {
   "cell_type": "code",
   "execution_count": 22,
   "metadata": {},
   "outputs": [
    {
     "data": {
      "text/plain": [
       "[0, 1, 2, 3, 4, 5, 6, 7, 8, 9, 10]"
      ]
     },
     "execution_count": 22,
     "metadata": {},
     "output_type": "execute_result"
    }
   ],
   "source": [
    "tri_insertion(liste)\n",
    "liste"
   ]
  },
  {
   "cell_type": "code",
   "execution_count": null,
   "metadata": {},
   "outputs": [],
   "source": []
  }
 ],
 "metadata": {
  "kernelspec": {
   "display_name": "Python 3",
   "language": "python",
   "name": "python3"
  },
  "language_info": {
   "codemirror_mode": {
    "name": "ipython",
    "version": 3
   },
   "file_extension": ".py",
   "mimetype": "text/x-python",
   "name": "python",
   "nbconvert_exporter": "python",
   "pygments_lexer": "ipython3",
   "version": "3.10.9"
  },
  "orig_nbformat": 4,
  "vscode": {
   "interpreter": {
    "hash": "e7370f93d1d0cde622a1f8e1c04877d8463912d04d973331ad4851f04de6915a"
   }
  }
 },
 "nbformat": 4,
 "nbformat_minor": 2
}
