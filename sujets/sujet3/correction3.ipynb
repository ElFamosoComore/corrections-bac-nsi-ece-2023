{
 "cells": [
  {
   "attachments": {},
   "cell_type": "markdown",
   "metadata": {},
   "source": [
    "## Sujet 3"
   ]
  },
  {
   "attachments": {},
   "cell_type": "markdown",
   "metadata": {},
   "source": [
    "### Exercice 1"
   ]
  },
  {
   "cell_type": "code",
   "execution_count": 1,
   "metadata": {},
   "outputs": [],
   "source": [
    "def moyenne(notes):\n",
    "    somme = 0\n",
    "    diviseur = 0\n",
    "\n",
    "    for note in notes:\n",
    "        somme += note[0] * note[1]\n",
    "        diviseur += note[1]\n",
    "\n",
    "    if diviseur == 0:\n",
    "        return None\n",
    "\n",
    "    return somme / diviseur"
   ]
  },
  {
   "cell_type": "code",
   "execution_count": 2,
   "metadata": {},
   "outputs": [
    {
     "data": {
      "text/plain": [
       "9.142857142857142"
      ]
     },
     "execution_count": 2,
     "metadata": {},
     "output_type": "execute_result"
    }
   ],
   "source": [
    "moyenne([(8, 2), (12, 0), (13.5, 1), (5, 0.5)])"
   ]
  },
  {
   "cell_type": "code",
   "execution_count": 3,
   "metadata": {},
   "outputs": [],
   "source": [
    "moyenne([(3, 0), (5, 0)])"
   ]
  },
  {
   "attachments": {},
   "cell_type": "markdown",
   "metadata": {},
   "source": [
    "### Exercice 2"
   ]
  },
  {
   "cell_type": "code",
   "execution_count": 7,
   "metadata": {},
   "outputs": [],
   "source": [
    "coeur = [[0, 0, 0, 0, 0, 0, 0, 0, 0, 0, 0, 0, 0],\n",
    "         [0, 0, 0, 1, 1, 0, 0, 0, 1, 1, 0, 0, 0],\n",
    "         [0, 0, 1, 0, 0, 1, 0, 1, 0, 0, 1, 0, 0],\n",
    "         [0, 1, 0, 0, 0, 0, 1, 0, 0, 0, 0, 1, 0],\n",
    "         [0, 1, 0, 0, 0, 0, 0, 0, 0, 0, 0, 1, 0],\n",
    "         [0, 1, 0, 0, 0, 0, 0, 0, 0, 0, 0, 1, 0],\n",
    "         [0, 0, 1, 0, 0, 0, 0, 0, 0, 0, 1, 0, 0],\n",
    "         [0, 0, 0, 1, 0, 0, 0, 0, 0, 1, 0, 0, 0],\n",
    "         [0, 0, 0, 0, 1, 0, 0, 0, 1, 0, 0, 0, 0],\n",
    "         [0, 0, 0, 0, 0, 1, 0, 1, 0, 0, 0, 0, 0],\n",
    "         [0, 0, 0, 0, 0, 0, 1, 0, 0, 0, 0, 0, 0],\n",
    "         [0, 0, 0, 0, 0, 0, 0, 0, 0, 0, 0, 0, 0]]\n",
    "\n",
    "def affiche(dessin):\n",
    "    ''' affichage d'une grille : les 1 sont représentés par\n",
    "        des \" *\" , les 0 par deux espaces \"  \" \n",
    "        La valeur \"\" donnée au paramètre end permet \n",
    "        de ne pas avoir de  saut de ligne. '''\n",
    "    for ligne in dessin:\n",
    "        for col in ligne:\n",
    "            if col == 1:\n",
    "                print(\" *\", end=\"\")\n",
    "            else:\n",
    "                print(\"  \", end=\"\")\n",
    "        print()\n",
    "\n",
    "\n",
    "def zoomListe(liste_depart, k):\n",
    "    '''renvoie une liste contenant k fois chaque\n",
    "       élément de liste_depart'''\n",
    "    liste_zoom = []\n",
    "    for elt in liste_depart :\n",
    "        for i in range(k):\n",
    "            liste_zoom.append(elt)\n",
    "    return liste_zoom\n",
    "\n",
    "def zoomDessin(grille, k):\n",
    "    '''renvoie une grille ou les lignes sont zoomées k fois\n",
    "       ET répétées k fois'''\n",
    "    grille_zoom=[]\n",
    "    for elt in grille:\n",
    "        liste_zoom = zoomListe(elt, k)\n",
    "        for i in range(k):\n",
    "            grille_zoom.append(liste_zoom)\n",
    "    return grille_zoom\n"
   ]
  },
  {
   "cell_type": "code",
   "execution_count": 8,
   "metadata": {},
   "outputs": [
    {
     "name": "stdout",
     "output_type": "stream",
     "text": [
      "                          \n",
      "       * *       * *      \n",
      "     *     *   *     *    \n",
      "   *         *         *  \n",
      "   *                   *  \n",
      "   *                   *  \n",
      "     *               *    \n",
      "       *           *      \n",
      "         *       *        \n",
      "           *   *          \n",
      "             *            \n",
      "                          \n"
     ]
    }
   ],
   "source": [
    "affiche(coeur)"
   ]
  },
  {
   "cell_type": "code",
   "execution_count": 10,
   "metadata": {},
   "outputs": [
    {
     "name": "stdout",
     "output_type": "stream",
     "text": [
      "                                                                              \n",
      "                                                                              \n",
      "                                                                              \n",
      "                   * * * * * *                   * * * * * *                  \n",
      "                   * * * * * *                   * * * * * *                  \n",
      "                   * * * * * *                   * * * * * *                  \n",
      "             * * *             * * *       * * *             * * *            \n",
      "             * * *             * * *       * * *             * * *            \n",
      "             * * *             * * *       * * *             * * *            \n",
      "       * * *                         * * *                         * * *      \n",
      "       * * *                         * * *                         * * *      \n",
      "       * * *                         * * *                         * * *      \n",
      "       * * *                                                       * * *      \n",
      "       * * *                                                       * * *      \n",
      "       * * *                                                       * * *      \n",
      "       * * *                                                       * * *      \n",
      "       * * *                                                       * * *      \n",
      "       * * *                                                       * * *      \n",
      "             * * *                                           * * *            \n",
      "             * * *                                           * * *            \n",
      "             * * *                                           * * *            \n",
      "                   * * *                               * * *                  \n",
      "                   * * *                               * * *                  \n",
      "                   * * *                               * * *                  \n",
      "                         * * *                   * * *                        \n",
      "                         * * *                   * * *                        \n",
      "                         * * *                   * * *                        \n",
      "                               * * *       * * *                              \n",
      "                               * * *       * * *                              \n",
      "                               * * *       * * *                              \n",
      "                                     * * *                                    \n",
      "                                     * * *                                    \n",
      "                                     * * *                                    \n",
      "                                                                              \n",
      "                                                                              \n",
      "                                                                              \n"
     ]
    }
   ],
   "source": [
    "affiche(zoomDessin(coeur, 3))"
   ]
  },
  {
   "cell_type": "code",
   "execution_count": null,
   "metadata": {},
   "outputs": [],
   "source": []
  }
 ],
 "metadata": {
  "kernelspec": {
   "display_name": "Python 3",
   "language": "python",
   "name": "python3"
  },
  "language_info": {
   "codemirror_mode": {
    "name": "ipython",
    "version": 3
   },
   "file_extension": ".py",
   "mimetype": "text/x-python",
   "name": "python",
   "nbconvert_exporter": "python",
   "pygments_lexer": "ipython3",
   "version": "3.10.9"
  },
  "orig_nbformat": 4,
  "vscode": {
   "interpreter": {
    "hash": "e7370f93d1d0cde622a1f8e1c04877d8463912d04d973331ad4851f04de6915a"
   }
  }
 },
 "nbformat": 4,
 "nbformat_minor": 2
}
