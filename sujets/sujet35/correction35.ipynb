{
 "cells": [
  {
   "attachments": {},
   "cell_type": "markdown",
   "metadata": {},
   "source": [
    "## Sujet 35"
   ]
  },
  {
   "attachments": {},
   "cell_type": "markdown",
   "metadata": {},
   "source": [
    "### Exercice 1"
   ]
  },
  {
   "cell_type": "code",
   "execution_count": 3,
   "metadata": {},
   "outputs": [],
   "source": [
    "def ou_exclusif(tab1, tab2):\n",
    "    tab = []\n",
    "    \n",
    "    for i in range(len(tab1)):\n",
    "        if tab1[i] != tab2[i]:\n",
    "            tab.append(1)\n",
    "        else:\n",
    "            tab.append(0)\n",
    "\n",
    "    return tab"
   ]
  },
  {
   "cell_type": "code",
   "execution_count": 4,
   "metadata": {},
   "outputs": [
    {
     "data": {
      "text/plain": [
       "[1, 1, 0, 1, 1, 0, 0, 1]"
      ]
     },
     "execution_count": 4,
     "metadata": {},
     "output_type": "execute_result"
    }
   ],
   "source": [
    "a = [1, 0, 1, 0, 1, 1, 0, 1]  \n",
    "b = [0, 1, 1, 1, 0, 1, 0, 0] \n",
    "c = [1, 1, 0, 1] \n",
    "d = [0, 0, 1, 1]\n",
    "\n",
    "ou_exclusif(a, b)"
   ]
  },
  {
   "cell_type": "code",
   "execution_count": 5,
   "metadata": {},
   "outputs": [
    {
     "data": {
      "text/plain": [
       "[1, 1, 1, 0]"
      ]
     },
     "execution_count": 5,
     "metadata": {},
     "output_type": "execute_result"
    }
   ],
   "source": [
    "ou_exclusif(c, d)"
   ]
  },
  {
   "attachments": {},
   "cell_type": "markdown",
   "metadata": {},
   "source": [
    "### Exercice 2"
   ]
  },
  {
   "cell_type": "code",
   "execution_count": 6,
   "metadata": {},
   "outputs": [],
   "source": [
    "c2 = [[1, 7], [7, 1]]\n",
    "c3 = [[3, 4, 5], [4, 4, 4], [5, 4, 3]]\n",
    "c3bis = [[2, 9, 4], [7, 0, 3], [6, 1, 8]]\n",
    "\n",
    "\n",
    "class Carre:\n",
    "    def __init__(self, liste, n):\n",
    "        self.ordre = n\n",
    "        self.tableau = [[liste[i + j * n] for i in range(n)] for j in range(n)]\n",
    "\n",
    "    def affiche(self):\n",
    "        '''Affiche un carrÃ©'''\n",
    "        for i in range(self.ordre):\n",
    "            print(self.tableau[i])\n",
    "\n",
    "    def somme_ligne(self, i):\n",
    "        '''Calcule la somme des valeurs de la ligne i'''\n",
    "        somme = 0\n",
    "        for j in range(self.ordre):\n",
    "            somme = somme + self.tableau[i][j]\n",
    "        return somme\n",
    "\n",
    "    def somme_col(self, j):\n",
    "        '''Calcule la somme des valeurs de la colonne j'''\n",
    "        somme = 0\n",
    "        for i in range(self.ordre):\n",
    "            somme = somme + self.tableau[i][j]\n",
    "        return somme\n",
    "\n",
    "    def est_semimagique(self):\n",
    "        s = self.somme_ligne(0)\n",
    "\n",
    "        #test de la somme de chaque ligne\n",
    "        for i in range(self.ordre):\n",
    "            if self.somme_ligne(i) != s:\n",
    "                return False\n",
    "\n",
    "        #test de la somme de chaque colonne\n",
    "        for j in range(self.ordre):\n",
    "            if self.somme_col(i) != s:\n",
    "                return False\n",
    "\n",
    "        return True\n"
   ]
  },
  {
   "cell_type": "code",
   "execution_count": 8,
   "metadata": {},
   "outputs": [],
   "source": [
    "c2 = Carre((1, 7, 7, 1), 2)\n",
    "c3 = Carre((3, 4, 5, 4, 4, 4, 5, 4, 3), 3)\n",
    "c3bis = Carre((2, 9, 4, 7, 0, 3, 6, 1, 8), 3)"
   ]
  },
  {
   "cell_type": "code",
   "execution_count": 9,
   "metadata": {},
   "outputs": [
    {
     "data": {
      "text/plain": [
       "True"
      ]
     },
     "execution_count": 9,
     "metadata": {},
     "output_type": "execute_result"
    }
   ],
   "source": [
    "c2.est_semimagique()"
   ]
  },
  {
   "cell_type": "code",
   "execution_count": 10,
   "metadata": {},
   "outputs": [
    {
     "data": {
      "text/plain": [
       "True"
      ]
     },
     "execution_count": 10,
     "metadata": {},
     "output_type": "execute_result"
    }
   ],
   "source": [
    "c3.est_semimagique()"
   ]
  },
  {
   "cell_type": "code",
   "execution_count": 11,
   "metadata": {},
   "outputs": [
    {
     "data": {
      "text/plain": [
       "False"
      ]
     },
     "execution_count": 11,
     "metadata": {},
     "output_type": "execute_result"
    }
   ],
   "source": [
    "c3bis.est_semimagique()"
   ]
  }
 ],
 "metadata": {
  "kernelspec": {
   "display_name": "Python 3",
   "language": "python",
   "name": "python3"
  },
  "language_info": {
   "codemirror_mode": {
    "name": "ipython",
    "version": 3
   },
   "file_extension": ".py",
   "mimetype": "text/x-python",
   "name": "python",
   "nbconvert_exporter": "python",
   "pygments_lexer": "ipython3",
   "version": "3.10.10"
  },
  "orig_nbformat": 4
 },
 "nbformat": 4,
 "nbformat_minor": 2
}
