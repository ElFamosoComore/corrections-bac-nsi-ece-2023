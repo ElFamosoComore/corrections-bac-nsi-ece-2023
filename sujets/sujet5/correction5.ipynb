{
 "cells": [
  {
   "attachments": {},
   "cell_type": "markdown",
   "metadata": {},
   "source": [
    "## Sujet 5"
   ]
  },
  {
   "attachments": {},
   "cell_type": "markdown",
   "metadata": {},
   "source": [
    "### Exercice 1"
   ]
  },
  {
   "cell_type": "code",
   "execution_count": 1,
   "metadata": {},
   "outputs": [],
   "source": [
    "from random import randint\n",
    "\n",
    "def lancer(n):\n",
    "    tab = []\n",
    "\n",
    "    for i in range(n):\n",
    "        tab.append(randint(1, 6)) # On ajoute n fois un nombre entre 1 et 6.\n",
    "        \n",
    "    return tab\n",
    "\n",
    "def paire_6(tab):\n",
    "    t = 0\n",
    "\n",
    "    for v in tab:\n",
    "        if v == 6:\n",
    "            t += 1 # Si c'est un six, on incrémente le compteur.\n",
    "    \n",
    "    return t >= 2 # On retourne True si t est supérieur ou égal à 2, et False sinon."
   ]
  },
  {
   "cell_type": "code",
   "execution_count": 3,
   "metadata": {},
   "outputs": [
    {
     "data": {
      "text/plain": [
       "[6, 6, 5, 1, 2]"
      ]
     },
     "execution_count": 3,
     "metadata": {},
     "output_type": "execute_result"
    }
   ],
   "source": [
    "lancer(5)"
   ]
  },
  {
   "cell_type": "code",
   "execution_count": 4,
   "metadata": {},
   "outputs": [
    {
     "data": {
      "text/plain": [
       "False"
      ]
     },
     "execution_count": 4,
     "metadata": {},
     "output_type": "execute_result"
    }
   ],
   "source": [
    "paire_6([5, 2, 1, 4, 5]) # False"
   ]
  },
  {
   "cell_type": "code",
   "execution_count": 5,
   "metadata": {},
   "outputs": [
    {
     "data": {
      "text/plain": [
       "True"
      ]
     },
     "execution_count": 5,
     "metadata": {},
     "output_type": "execute_result"
    }
   ],
   "source": [
    "paire_6([5, 6, 1, 6, 5]) # True"
   ]
  },
  {
   "attachments": {},
   "cell_type": "markdown",
   "metadata": {},
   "source": [
    "### Exercice 2"
   ]
  },
  {
   "cell_type": "code",
   "execution_count": 10,
   "metadata": {},
   "outputs": [],
   "source": [
    "img=[[20, 34, 254, 145, 6], [23, 124, 237, 225, 69], [197, 174, 207, 25, 87], [255, 0, 24, 197, 189]]\n",
    "\n",
    "def nbLig(image):\n",
    "    '''renvoie le nombre de lignes de l'image'''\n",
    "    return len(image)\n",
    "\n",
    "def nbCol(image):\n",
    "    '''renvoie la largeur de l'image'''\n",
    "    return len(image[0])\n",
    "\n",
    "def negatif(image):\n",
    "    '''renvoie le negatif de l'image sous la forme\n",
    "       d'une liste de listes'''\n",
    "\n",
    "    # on cree une image de 0 aux memes dimensions que le parametre image\n",
    "    L = [[0 for k in range(nbCol(image))] for i in range(nbLig(image))]\n",
    "\n",
    "    for i in range(nbLig(image)):\n",
    "        for j in range(nbCol(image)):\n",
    "            L[i][j] = 255 - image[i][j]\n",
    "    return L\n",
    "\n",
    "def binaire(image, seuil):\n",
    "    '''renvoie une image binarisee de l'image sous la forme\n",
    "       d'une liste de listes contenant des 0 si la valeur\n",
    "       du pixel est strictement inferieure au seuil\n",
    "       et 1 sinon'''\n",
    "\n",
    "    # on cree une image de 0 aux memes dimensions que le parametre image\n",
    "    L = [[0 for k in range(nbCol(image))] for i in range(nbLig(image))]\n",
    "\n",
    "    for i in range(nbLig(image)):\n",
    "        for j in range(nbCol(image)):\n",
    "            if image[i][j] < seuil :\n",
    "                L[i][j] = 0\n",
    "            else:\n",
    "                L[i][j] = 1\n",
    "    return L"
   ]
  },
  {
   "cell_type": "code",
   "execution_count": 11,
   "metadata": {},
   "outputs": [
    {
     "data": {
      "text/plain": [
       "4"
      ]
     },
     "execution_count": 11,
     "metadata": {},
     "output_type": "execute_result"
    }
   ],
   "source": [
    "nbLig(img)"
   ]
  },
  {
   "cell_type": "code",
   "execution_count": 12,
   "metadata": {},
   "outputs": [
    {
     "data": {
      "text/plain": [
       "5"
      ]
     },
     "execution_count": 12,
     "metadata": {},
     "output_type": "execute_result"
    }
   ],
   "source": [
    "nbCol(img)"
   ]
  },
  {
   "cell_type": "code",
   "execution_count": 13,
   "metadata": {},
   "outputs": [
    {
     "data": {
      "text/plain": [
       "[[235, 221, 1, 110, 249],\n",
       " [232, 131, 18, 30, 186],\n",
       " [58, 81, 48, 230, 168],\n",
       " [0, 255, 231, 58, 66]]"
      ]
     },
     "execution_count": 13,
     "metadata": {},
     "output_type": "execute_result"
    }
   ],
   "source": [
    "negatif(img)"
   ]
  },
  {
   "cell_type": "code",
   "execution_count": 14,
   "metadata": {},
   "outputs": [
    {
     "data": {
      "text/plain": [
       "[[0, 0, 1, 1, 0], [0, 1, 1, 1, 0], [1, 1, 1, 0, 0], [1, 0, 0, 1, 1]]"
      ]
     },
     "execution_count": 14,
     "metadata": {},
     "output_type": "execute_result"
    }
   ],
   "source": [
    "binaire(img,120)"
   ]
  }
 ],
 "metadata": {
  "kernelspec": {
   "display_name": "Python 3",
   "language": "python",
   "name": "python3"
  },
  "language_info": {
   "codemirror_mode": {
    "name": "ipython",
    "version": 3
   },
   "file_extension": ".py",
   "mimetype": "text/x-python",
   "name": "python",
   "nbconvert_exporter": "python",
   "pygments_lexer": "ipython3",
   "version": "3.10.9"
  },
  "orig_nbformat": 4,
  "vscode": {
   "interpreter": {
    "hash": "e7370f93d1d0cde622a1f8e1c04877d8463912d04d973331ad4851f04de6915a"
   }
  }
 },
 "nbformat": 4,
 "nbformat_minor": 2
}
