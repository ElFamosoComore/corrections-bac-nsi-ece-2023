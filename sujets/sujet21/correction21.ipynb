{
 "cells": [
  {
   "attachments": {},
   "cell_type": "markdown",
   "metadata": {},
   "source": [
    "## Sujet 21"
   ]
  },
  {
   "attachments": {},
   "cell_type": "markdown",
   "metadata": {},
   "source": [
    "### Exercice 1"
   ]
  },
  {
   "cell_type": "code",
   "execution_count": 21,
   "metadata": {},
   "outputs": [],
   "source": [
    "def delta(liste):\n",
    "    nombre = 0\n",
    "    tab = []\n",
    "\n",
    "    for n in liste:\n",
    "        tab.append(n - nombre) # On récupère la différentre entre l'élément précédent et l'actuel.\n",
    "        nombre = n # On garde l'élément pour le prochain tour.\n",
    "\n",
    "    return tab"
   ]
  },
  {
   "cell_type": "code",
   "execution_count": 22,
   "metadata": {},
   "outputs": [
    {
     "data": {
      "text/plain": [
       "[1000, -200, 2, 198, 3]"
      ]
     },
     "execution_count": 22,
     "metadata": {},
     "output_type": "execute_result"
    }
   ],
   "source": [
    "delta([1000, 800, 802, 1000, 1003])"
   ]
  },
  {
   "cell_type": "code",
   "execution_count": 23,
   "metadata": {},
   "outputs": [
    {
     "data": {
      "text/plain": [
       "[42]"
      ]
     },
     "execution_count": 23,
     "metadata": {},
     "output_type": "execute_result"
    }
   ],
   "source": [
    "delta([42])"
   ]
  },
  {
   "attachments": {},
   "cell_type": "markdown",
   "metadata": {},
   "source": [
    "### Exercice 2"
   ]
  },
  {
   "cell_type": "code",
   "execution_count": 34,
   "metadata": {},
   "outputs": [],
   "source": [
    "class Noeud:\n",
    "    '''\n",
    "    classe implÃ©mentant un noeud d'arbre binaire\n",
    "    '''\n",
    "\n",
    "    def __init__(self, g, v, d):\n",
    "        '''\n",
    "        un objet Noeud posséde 3 attributs :\n",
    "        - gauche : le sous-arbre gauche,\n",
    "        - valeur : la valeur de l'étiquette,\n",
    "        - droit : le sous-arbre droit.\n",
    "        '''\n",
    "        self.gauche = g\n",
    "        self.valeur = v\n",
    "        self.droit = d\n",
    "\n",
    "    def __str__(self):\n",
    "        '''\n",
    "        renvoie la représentation du noeud en chaine de caractères\n",
    "        '''\n",
    "        return str(self.valeur)\n",
    "\n",
    "    def est_une_feuille(self):\n",
    "        '''\n",
    "        renvoie True si et seulement si le noeud est une feuille\n",
    "        '''\n",
    "        return self.gauche is None and self.droit is None\n",
    "\n",
    "\n",
    "def expression_infixe(e):\n",
    "    s = \"\" # On initialise.\n",
    "    if e.gauche is not None:\n",
    "        s = '(' + s + expression_infixe(e.gauche) # On cherche l'expression du sous-arbre gauche.\n",
    "    s = s + str(e.valeur) # La valeur actuelle entre la gauche et la droite.\n",
    "    if e.droit is not None:\n",
    "        s = s + expression_infixe(e.droit) + ')' # On cherche l'expression du sous-arbre droit.\n",
    "    return s\n"
   ]
  },
  {
   "cell_type": "code",
   "execution_count": 35,
   "metadata": {},
   "outputs": [
    {
     "data": {
      "text/plain": [
       "'((3*(8+7))-(2+1))'"
      ]
     },
     "execution_count": 35,
     "metadata": {},
     "output_type": "execute_result"
    }
   ],
   "source": [
    "e = Noeud(Noeud(Noeud(None, 3, None),\n",
    "    '*', Noeud(Noeud(None, 8, None), '+', Noeud(None, 7, None))),\n",
    "    '-', Noeud(Noeud(None, 2, None), '+', Noeud(None, 1, None)))\n",
    "\n",
    "expression_infixe(e)"
   ]
  }
 ],
 "metadata": {
  "kernelspec": {
   "display_name": "Python 3",
   "language": "python",
   "name": "python3"
  },
  "language_info": {
   "codemirror_mode": {
    "name": "ipython",
    "version": 3
   },
   "file_extension": ".py",
   "mimetype": "text/x-python",
   "name": "python",
   "nbconvert_exporter": "python",
   "pygments_lexer": "ipython3",
   "version": "3.10.9"
  },
  "orig_nbformat": 4,
  "vscode": {
   "interpreter": {
    "hash": "e7370f93d1d0cde622a1f8e1c04877d8463912d04d973331ad4851f04de6915a"
   }
  }
 },
 "nbformat": 4,
 "nbformat_minor": 2
}
