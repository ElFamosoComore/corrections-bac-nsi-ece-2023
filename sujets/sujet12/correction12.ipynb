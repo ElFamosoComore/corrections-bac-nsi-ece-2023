{
 "cells": [
  {
   "attachments": {},
   "cell_type": "markdown",
   "metadata": {},
   "source": [
    "## Sujet 12"
   ]
  },
  {
   "attachments": {},
   "cell_type": "markdown",
   "metadata": {},
   "source": [
    "### Exercice 1"
   ]
  },
  {
   "cell_type": "code",
   "execution_count": 5,
   "metadata": {},
   "outputs": [],
   "source": [
    "class ABR:\n",
    "    def __init__(self, g0, v0, d0):\n",
    "        self.gauche = g0\n",
    "        self.cle = v0\n",
    "        self.droit = d0\n",
    "\n",
    "    def __repr__(self):\n",
    "        if self is None:\n",
    "            return ''\n",
    "        else:\n",
    "            return '(' + (self.gauche).__repr__() + ',' + str(self.cle) + ',' +(self.droit).__repr__() + ')'\n",
    "\n",
    "n0 = ABR(None, 0, None)\n",
    "n3 = ABR(None, 3, None)\n",
    "n2 = ABR(None, 2, n3)\n",
    "abr1 = ABR(n0, 1, n2)\n",
    "\n",
    "\n",
    "def ajoute(cle, a):\n",
    "    if a is None:\n",
    "        return ABR(None, cle, None)\n",
    "    elif a.cle == cle:\n",
    "        return a # cle est déjà présente dans a, on renvoie inchangé.\n",
    "    elif a.cle > cle:\n",
    "        return ABR(ajoute(cle, a.gauche), a.cle, a.droit) # a.cle supérieur à cle, on va à gauche.\n",
    "    return ABR(a.gauche, a.cle, ajoute(cle, a.droit)) # Sinon, on va à droite."
   ]
  },
  {
   "cell_type": "code",
   "execution_count": 6,
   "metadata": {},
   "outputs": [
    {
     "data": {
      "text/plain": [
       "((None,0,None),1,(None,2,(None,3,(None,4,None))))"
      ]
     },
     "execution_count": 6,
     "metadata": {},
     "output_type": "execute_result"
    }
   ],
   "source": [
    "a = ajoute(4, abr1)\n",
    "a"
   ]
  },
  {
   "cell_type": "code",
   "execution_count": 7,
   "metadata": {},
   "outputs": [
    {
     "data": {
      "text/plain": [
       "(((None,-5,None),0,None),1,(None,2,(None,3,None)))"
      ]
     },
     "execution_count": 7,
     "metadata": {},
     "output_type": "execute_result"
    }
   ],
   "source": [
    "ajoute(-5, abr1)"
   ]
  },
  {
   "cell_type": "code",
   "execution_count": 8,
   "metadata": {},
   "outputs": [
    {
     "data": {
      "text/plain": [
       "((None,0,None),1,(None,2,(None,3,None)))"
      ]
     },
     "execution_count": 8,
     "metadata": {},
     "output_type": "execute_result"
    }
   ],
   "source": [
    "ajoute(2, abr1)"
   ]
  },
  {
   "attachments": {},
   "cell_type": "markdown",
   "metadata": {},
   "source": [
    "### Exercice 2"
   ]
  },
  {
   "cell_type": "code",
   "execution_count": 11,
   "metadata": {},
   "outputs": [],
   "source": [
    "def empaqueter(liste_masses, c):\n",
    "    n = len(liste_masses)\n",
    "    nb_boites = 0\n",
    "    boites = [0]*n\n",
    "    for masse in liste_masses :\n",
    "        i=0\n",
    "        while i <= nb_boites and boites[i] + masse > c:\n",
    "            i = i + 1\n",
    "        if i == nb_boites + 1:\n",
    "            nb_boites += 1\n",
    "        boites[i] = boites[i] + masse\n",
    "    return nb_boites + 1 # Nous utilisions les indices, qui commençent à 0 => + 1 nécessaire."
   ]
  },
  {
   "cell_type": "code",
   "execution_count": 12,
   "metadata": {},
   "outputs": [
    {
     "data": {
      "text/plain": [
       "5"
      ]
     },
     "execution_count": 12,
     "metadata": {},
     "output_type": "execute_result"
    }
   ],
   "source": [
    "empaqueter([7, 6, 3, 4, 8, 5, 9, 2], 11)"
   ]
  }
 ],
 "metadata": {
  "kernelspec": {
   "display_name": "Python 3",
   "language": "python",
   "name": "python3"
  },
  "language_info": {
   "codemirror_mode": {
    "name": "ipython",
    "version": 3
   },
   "file_extension": ".py",
   "mimetype": "text/x-python",
   "name": "python",
   "nbconvert_exporter": "python",
   "pygments_lexer": "ipython3",
   "version": "3.10.9"
  },
  "orig_nbformat": 4,
  "vscode": {
   "interpreter": {
    "hash": "e7370f93d1d0cde622a1f8e1c04877d8463912d04d973331ad4851f04de6915a"
   }
  }
 },
 "nbformat": 4,
 "nbformat_minor": 2
}
