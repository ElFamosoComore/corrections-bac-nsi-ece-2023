{
 "cells": [
  {
   "attachments": {},
   "cell_type": "markdown",
   "metadata": {},
   "source": [
    "## Sujet 32"
   ]
  },
  {
   "attachments": {},
   "cell_type": "markdown",
   "metadata": {},
   "source": [
    "### Exercice 1"
   ]
  },
  {
   "cell_type": "code",
   "execution_count": 8,
   "metadata": {},
   "outputs": [],
   "source": [
    "def min_et_max(tab):\n",
    "    min = tab[0]\n",
    "    max = tab[0]\n",
    "\n",
    "    for n in tab:\n",
    "        if n < min:\n",
    "            min = n\n",
    "        if n > max:\n",
    "            max = n\n",
    "\n",
    "    return { 'min': min, 'max': max }\n"
   ]
  },
  {
   "cell_type": "code",
   "execution_count": 9,
   "metadata": {},
   "outputs": [
    {
     "data": {
      "text/plain": [
       "{'min': -2, 'max': 9}"
      ]
     },
     "execution_count": 9,
     "metadata": {},
     "output_type": "execute_result"
    }
   ],
   "source": [
    "min_et_max([0, 1, 4, 2, -2, 9, 3, 1, 7, 1])"
   ]
  },
  {
   "cell_type": "code",
   "execution_count": 10,
   "metadata": {},
   "outputs": [
    {
     "data": {
      "text/plain": [
       "{'min': 0, 'max': 3}"
      ]
     },
     "execution_count": 10,
     "metadata": {},
     "output_type": "execute_result"
    }
   ],
   "source": [
    "min_et_max([0, 1, 2, 3])"
   ]
  },
  {
   "cell_type": "code",
   "execution_count": 11,
   "metadata": {},
   "outputs": [
    {
     "data": {
      "text/plain": [
       "{'min': 3, 'max': 3}"
      ]
     },
     "execution_count": 11,
     "metadata": {},
     "output_type": "execute_result"
    }
   ],
   "source": [
    "min_et_max([3])"
   ]
  },
  {
   "cell_type": "code",
   "execution_count": 12,
   "metadata": {},
   "outputs": [
    {
     "data": {
      "text/plain": [
       "{'min': 1, 'max': 3}"
      ]
     },
     "execution_count": 12,
     "metadata": {},
     "output_type": "execute_result"
    }
   ],
   "source": [
    "min_et_max([1, 3, 2, 1, 3])"
   ]
  },
  {
   "cell_type": "code",
   "execution_count": 13,
   "metadata": {},
   "outputs": [
    {
     "data": {
      "text/plain": [
       "{'min': -1, 'max': -1}"
      ]
     },
     "execution_count": 13,
     "metadata": {},
     "output_type": "execute_result"
    }
   ],
   "source": [
    "min_et_max([-1, -1, -1, -1, -1])"
   ]
  },
  {
   "attachments": {},
   "cell_type": "markdown",
   "metadata": {},
   "source": [
    "### Exercice 2"
   ]
  },
  {
   "cell_type": "code",
   "execution_count": 19,
   "metadata": {},
   "outputs": [],
   "source": [
    "class Carte:\n",
    "    def __init__(self, c, v):\n",
    "        \"\"\" Initialise les attributs couleur (entre 1 et 4), et valeur (entre 1 et 13). \"\"\"\n",
    "        self.couleur = c\n",
    "        self.valeur = v\n",
    "\n",
    "    def get_valeur(self):\n",
    "        \"\"\" Renvoie la valeur de la carte : As, 2, ..., 10, Valet, Dame, Roi \"\"\"\n",
    "        valeurs = ['As','2', '3', '4', '5', '6', '7', '8', '9', '10', 'Valet', 'Dame', 'Roi']\n",
    "        return valeurs[self.valeur - 1]\n",
    "\n",
    "    def get_couleur(self):\n",
    "        \"\"\" Renvoie la couleur de la carte (parmi pique, coeur, carreau, trèfle). \"\"\"\n",
    "        couleurs = ['pique', 'coeur', 'carreau', 'trèfle']\n",
    "        return couleurs[self.couleur - 1]\n",
    "\n",
    "class Paquet_de_cartes:\n",
    "    def __init__(self):\n",
    "        \"\"\" Initialise l'attribut contenu avec une liste des 52 objets Carte possibles\n",
    "            rangés par valeurs croissantes en commençant par pique, puis coeur,\n",
    "            carreau et trèfle. \"\"\"\n",
    "        \n",
    "        self.cartes = []\n",
    "\n",
    "        for c in range(1, 5):\n",
    "            for v in range(1, 14):\n",
    "                self.cartes.append(Carte(c, v))\n",
    "\n",
    "    def get_carte(self, pos):\n",
    "        \"\"\" Renvoie la carte qui se trouve Ã  la position pos (entier compris entre 0 et 51). \"\"\"\n",
    "        assert 0 <= pos <= 51, \"paramètre pos invalide\"\n",
    "        return self.cartes[pos]\n"
   ]
  },
  {
   "cell_type": "code",
   "execution_count": 20,
   "metadata": {},
   "outputs": [
    {
     "name": "stdout",
     "output_type": "stream",
     "text": [
      "8 de coeur\n"
     ]
    }
   ],
   "source": [
    "jeu = Paquet_de_cartes()\n",
    "\n",
    "carte1 = jeu.get_carte(20)\n",
    "print(carte1.get_valeur() + \" de \" + carte1.get_couleur())"
   ]
  },
  {
   "cell_type": "code",
   "execution_count": 21,
   "metadata": {},
   "outputs": [
    {
     "name": "stdout",
     "output_type": "stream",
     "text": [
      "As de pique\n"
     ]
    }
   ],
   "source": [
    "carte2 = jeu.get_carte(0)\n",
    "print(carte2.get_valeur() + \" de \" + carte2.get_couleur())"
   ]
  },
  {
   "cell_type": "code",
   "execution_count": 23,
   "metadata": {},
   "outputs": [
    {
     "ename": "AssertionError",
     "evalue": "paramètre pos invalide",
     "output_type": "error",
     "traceback": [
      "\u001b[0;31m---------------------------------------------------------------------------\u001b[0m",
      "\u001b[0;31mAssertionError\u001b[0m                            Traceback (most recent call last)",
      "Cell \u001b[0;32mIn[23], line 1\u001b[0m\n\u001b[0;32m----> 1\u001b[0m carte3 \u001b[39m=\u001b[39m jeu\u001b[39m.\u001b[39;49mget_carte(\u001b[39m52\u001b[39;49m)\n",
      "Cell \u001b[0;32mIn[19], line 31\u001b[0m, in \u001b[0;36mPaquet_de_cartes.get_carte\u001b[0;34m(self, pos)\u001b[0m\n\u001b[1;32m     29\u001b[0m \u001b[39mdef\u001b[39;00m \u001b[39mget_carte\u001b[39m(\u001b[39mself\u001b[39m, pos):\n\u001b[1;32m     30\u001b[0m \u001b[39m    \u001b[39m\u001b[39m\"\"\" Renvoie la carte qui se trouve Ã  la position pos (entier compris entre 0 et 51). \"\"\"\u001b[39;00m\n\u001b[0;32m---> 31\u001b[0m     \u001b[39massert\u001b[39;00m \u001b[39m0\u001b[39m \u001b[39m<\u001b[39m\u001b[39m=\u001b[39m pos \u001b[39m<\u001b[39m\u001b[39m=\u001b[39m \u001b[39m51\u001b[39m, \u001b[39m\"\u001b[39m\u001b[39mparamètre pos invalide\u001b[39m\u001b[39m\"\u001b[39m\n\u001b[1;32m     32\u001b[0m     \u001b[39mreturn\u001b[39;00m \u001b[39mself\u001b[39m\u001b[39m.\u001b[39mcartes[pos]\n",
      "\u001b[0;31mAssertionError\u001b[0m: paramètre pos invalide"
     ]
    }
   ],
   "source": [
    "carte3 = jeu.get_carte(52)"
   ]
  }
 ],
 "metadata": {
  "kernelspec": {
   "display_name": "Python 3",
   "language": "python",
   "name": "python3"
  },
  "language_info": {
   "codemirror_mode": {
    "name": "ipython",
    "version": 3
   },
   "file_extension": ".py",
   "mimetype": "text/x-python",
   "name": "python",
   "nbconvert_exporter": "python",
   "pygments_lexer": "ipython3",
   "version": "3.10.10"
  },
  "orig_nbformat": 4
 },
 "nbformat": 4,
 "nbformat_minor": 2
}
