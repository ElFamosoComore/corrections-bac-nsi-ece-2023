{
 "cells": [
  {
   "attachments": {},
   "cell_type": "markdown",
   "metadata": {},
   "source": [
    "## Sujet 29"
   ]
  },
  {
   "attachments": {},
   "cell_type": "markdown",
   "metadata": {},
   "source": [
    "### Exercice 1"
   ]
  },
  {
   "cell_type": "code",
   "execution_count": 1,
   "metadata": {},
   "outputs": [],
   "source": [
    "class Arbre: \n",
    "    def __init__(self, etiquette): \n",
    "        self.v = etiquette \n",
    "        self.fg = None \n",
    "        self.fd = None"
   ]
  },
  {
   "cell_type": "code",
   "execution_count": 2,
   "metadata": {},
   "outputs": [],
   "source": [
    "a = Arbre(1)  \n",
    "a.fg = Arbre(4) \n",
    "a.fd = Arbre(0) \n",
    "a.fd.fd = Arbre(7)"
   ]
  },
  {
   "cell_type": "code",
   "execution_count": 6,
   "metadata": {},
   "outputs": [],
   "source": [
    "def taille(a):\n",
    "    if a == None:\n",
    "        return 0\n",
    "    return a.v + taille(a.fg) + taille(a.fd)\n",
    "\n",
    "def hauteur(a):\n",
    "    if a == None:\n",
    "        return 0\n",
    "    return 1 + max(hauteur(a.fg), hauteur(a.fd))"
   ]
  },
  {
   "cell_type": "code",
   "execution_count": 7,
   "metadata": {},
   "outputs": [
    {
     "data": {
      "text/plain": [
       "21"
      ]
     },
     "execution_count": 7,
     "metadata": {},
     "output_type": "execute_result"
    }
   ],
   "source": [
    "a = Arbre(0)\n",
    "a.fg = Arbre(1)\n",
    "a.fd = Arbre(2)\n",
    "a.fg.fg = Arbre(3)\n",
    "a.fd.fg = Arbre(4)\n",
    "a.fd.fd = Arbre(5)\n",
    "a.fd.fg.fd = Arbre(6)\n",
    "\n",
    "taille(a)"
   ]
  },
  {
   "cell_type": "code",
   "execution_count": 8,
   "metadata": {},
   "outputs": [
    {
     "data": {
      "text/plain": [
       "4"
      ]
     },
     "execution_count": 8,
     "metadata": {},
     "output_type": "execute_result"
    }
   ],
   "source": [
    "hauteur(a)"
   ]
  },
  {
   "attachments": {},
   "cell_type": "markdown",
   "metadata": {},
   "source": [
    "### Exercice 2"
   ]
  },
  {
   "cell_type": "code",
   "execution_count": 14,
   "metadata": {},
   "outputs": [],
   "source": [
    "def ajoute(indice, element, liste):\n",
    "    nbre_elts = len(liste)\n",
    "    L = [0 for i in range(nbre_elts + 1)]\n",
    "    if indice < nbre_elts:\n",
    "        for i in range(indice):\n",
    "            L[i] = liste[i]\n",
    "        L[indice] = element\n",
    "        for i in range(indice + 1, nbre_elts + 1):\n",
    "            L[i] = liste[i - 1]\n",
    "    else:\n",
    "        for i in range(nbre_elts):\n",
    "            L[i] = liste[i]\n",
    "        L[nbre_elts] = element\n",
    "    return L\n"
   ]
  },
  {
   "cell_type": "code",
   "execution_count": 15,
   "metadata": {},
   "outputs": [
    {
     "data": {
      "text/plain": [
       "[7, 4, 8, 9]"
      ]
     },
     "execution_count": 15,
     "metadata": {},
     "output_type": "execute_result"
    }
   ],
   "source": [
    "ajoute(1, 4, [7, 8, 9])"
   ]
  },
  {
   "cell_type": "code",
   "execution_count": 16,
   "metadata": {},
   "outputs": [
    {
     "data": {
      "text/plain": [
       "[7, 8, 9, 4]"
      ]
     },
     "execution_count": 16,
     "metadata": {},
     "output_type": "execute_result"
    }
   ],
   "source": [
    "ajoute(3, 4, [7, 8, 9])"
   ]
  },
  {
   "cell_type": "code",
   "execution_count": 17,
   "metadata": {},
   "outputs": [
    {
     "data": {
      "text/plain": [
       "[7, 8, 9, 4]"
      ]
     },
     "execution_count": 17,
     "metadata": {},
     "output_type": "execute_result"
    }
   ],
   "source": [
    "ajoute(4, 4, [7, 8, 9])"
   ]
  }
 ],
 "metadata": {
  "kernelspec": {
   "display_name": "Python 3",
   "language": "python",
   "name": "python3"
  },
  "language_info": {
   "codemirror_mode": {
    "name": "ipython",
    "version": 3
   },
   "file_extension": ".py",
   "mimetype": "text/x-python",
   "name": "python",
   "nbconvert_exporter": "python",
   "pygments_lexer": "ipython3",
   "version": "3.10.10"
  },
  "orig_nbformat": 4
 },
 "nbformat": 4,
 "nbformat_minor": 2
}
