{
 "cells": [
  {
   "attachments": {},
   "cell_type": "markdown",
   "metadata": {},
   "source": [
    "## Sujet 10"
   ]
  },
  {
   "attachments": {},
   "cell_type": "markdown",
   "metadata": {},
   "source": [
    "### Exercice 1"
   ]
  },
  {
   "cell_type": "code",
   "execution_count": 1,
   "metadata": {},
   "outputs": [],
   "source": [
    "def maxliste(tab):\n",
    "    e = 0\n",
    "\n",
    "    for n in tab:\n",
    "        if n > e:\n",
    "            e = n\n",
    "\n",
    "    return e"
   ]
  },
  {
   "cell_type": "code",
   "execution_count": 2,
   "metadata": {},
   "outputs": [
    {
     "data": {
      "text/plain": [
       "131"
      ]
     },
     "execution_count": 2,
     "metadata": {},
     "output_type": "execute_result"
    }
   ],
   "source": [
    "maxliste([98, 12, 104, 23, 131, 9])"
   ]
  },
  {
   "cell_type": "code",
   "execution_count": 3,
   "metadata": {},
   "outputs": [
    {
     "data": {
      "text/plain": [
       "24"
      ]
     },
     "execution_count": 3,
     "metadata": {},
     "output_type": "execute_result"
    }
   ],
   "source": [
    "maxliste([-27, 24, -3, 15])"
   ]
  },
  {
   "attachments": {},
   "cell_type": "markdown",
   "metadata": {},
   "source": [
    "### Exercice 2"
   ]
  },
  {
   "cell_type": "code",
   "execution_count": 4,
   "metadata": {},
   "outputs": [],
   "source": [
    "class Pile:\n",
    "    \"\"\"\n",
    "    Classe definissant une pile\n",
    "    \"\"\"\n",
    "    def __init__(self):\n",
    "        self.valeurs = []\n",
    "\n",
    "    def est_vide(self):\n",
    "        \"\"\"\n",
    "        Renvoie True si la pile est vide, False sinon\n",
    "        \"\"\"\n",
    "        return self.valeurs == []\n",
    "\n",
    "    def empiler(self, c):\n",
    "        \"\"\"\n",
    "        Place l'element c au sommet de la pile\n",
    "        \"\"\"\n",
    "        self.valeurs.append(c)\n",
    "\n",
    "    def depiler(self):\n",
    "        \"\"\"\n",
    "        Supprime l'element place au sommet de la pile, a condition qu'elle soit non vide\n",
    "        \"\"\"\n",
    "        if self.est_vide() == False:\n",
    "            self.valeurs.pop()\n",
    "\n",
    "\n",
    "def parenthesage(ch):\n",
    "    \"\"\"\n",
    "    Renvoie True si la chaine ch est bien parenthesee et False sinon\n",
    "    \"\"\"\n",
    "    p = Pile()\n",
    "    for c in ch:\n",
    "        if c == '(':\n",
    "            p.empiler(c)\n",
    "        elif c == ')':\n",
    "            if p.est_vide():\n",
    "                return False\n",
    "            else:\n",
    "                p.depiler()\n",
    "    return p.est_vide()"
   ]
  },
  {
   "cell_type": "code",
   "execution_count": 5,
   "metadata": {},
   "outputs": [
    {
     "data": {
      "text/plain": [
       "True"
      ]
     },
     "execution_count": 5,
     "metadata": {},
     "output_type": "execute_result"
    }
   ],
   "source": [
    "parenthesage(\"((()())(()))\")"
   ]
  },
  {
   "cell_type": "code",
   "execution_count": 6,
   "metadata": {},
   "outputs": [
    {
     "data": {
      "text/plain": [
       "False"
      ]
     },
     "execution_count": 6,
     "metadata": {},
     "output_type": "execute_result"
    }
   ],
   "source": [
    "parenthesage(\"())(()\")"
   ]
  },
  {
   "cell_type": "code",
   "execution_count": 7,
   "metadata": {},
   "outputs": [
    {
     "data": {
      "text/plain": [
       "False"
      ]
     },
     "execution_count": 7,
     "metadata": {},
     "output_type": "execute_result"
    }
   ],
   "source": [
    "parenthesage(\"(())(()\")"
   ]
  }
 ],
 "metadata": {
  "kernelspec": {
   "display_name": "Python 3",
   "language": "python",
   "name": "python3"
  },
  "language_info": {
   "codemirror_mode": {
    "name": "ipython",
    "version": 3
   },
   "file_extension": ".py",
   "mimetype": "text/x-python",
   "name": "python",
   "nbconvert_exporter": "python",
   "pygments_lexer": "ipython3",
   "version": "3.10.9"
  },
  "orig_nbformat": 4,
  "vscode": {
   "interpreter": {
    "hash": "e7370f93d1d0cde622a1f8e1c04877d8463912d04d973331ad4851f04de6915a"
   }
  }
 },
 "nbformat": 4,
 "nbformat_minor": 2
}
