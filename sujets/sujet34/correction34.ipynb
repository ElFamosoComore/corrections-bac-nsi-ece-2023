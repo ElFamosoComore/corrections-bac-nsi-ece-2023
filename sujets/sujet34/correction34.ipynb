{
 "cells": [
  {
   "attachments": {},
   "cell_type": "markdown",
   "metadata": {},
   "source": [
    "## Sujet 34"
   ]
  },
  {
   "attachments": {},
   "cell_type": "markdown",
   "metadata": {},
   "source": [
    "### Exercice 1"
   ]
  },
  {
   "cell_type": "code",
   "execution_count": null,
   "metadata": {},
   "outputs": [],
   "source": [
    "def moyenne(tab):\n",
    "    # Proposition: Aucune valeur, aucune moyenne n'est possible => retourner None\n",
    "\n",
    "    somme = 0\n",
    "\n",
    "    for v in tab:\n",
    "        somme += v\n",
    "\n",
    "    return somme / len(tab)"
   ]
  },
  {
   "attachments": {},
   "cell_type": "markdown",
   "metadata": {},
   "source": [
    "### Exercice 2"
   ]
  },
  {
   "cell_type": "code",
   "execution_count": 3,
   "metadata": {},
   "outputs": [],
   "source": [
    "def tri(tab):\n",
    "    # i est le premier indice de la zone non triee,\n",
    "    # j est le dernier indice de cette zone non triée. \n",
    "    # Au debut, la zone non triee est le tableau complet.\n",
    "    i= 0\n",
    "    j= len(tab) - 1\n",
    "    while i != j :\n",
    "        if tab[i] == 0:\n",
    "            i= i + 1\n",
    "        else :\n",
    "            valeur = tab[j]\n",
    "            tab[j] = tab[i]\n",
    "            tab[i] = valeur\n",
    "            j= j - 1\n",
    "    return tab\n"
   ]
  },
  {
   "cell_type": "code",
   "execution_count": 4,
   "metadata": {},
   "outputs": [
    {
     "data": {
      "text/plain": [
       "[0, 0, 0, 0, 0, 1, 1, 1, 1]"
      ]
     },
     "execution_count": 4,
     "metadata": {},
     "output_type": "execute_result"
    }
   ],
   "source": [
    "tri([0, 1, 0, 1, 0, 1, 0, 1, 0])"
   ]
  }
 ],
 "metadata": {
  "kernelspec": {
   "display_name": "Python 3",
   "language": "python",
   "name": "python3"
  },
  "language_info": {
   "codemirror_mode": {
    "name": "ipython",
    "version": 3
   },
   "file_extension": ".py",
   "mimetype": "text/x-python",
   "name": "python",
   "nbconvert_exporter": "python",
   "pygments_lexer": "ipython3",
   "version": "3.10.10"
  },
  "orig_nbformat": 4
 },
 "nbformat": 4,
 "nbformat_minor": 2
}
